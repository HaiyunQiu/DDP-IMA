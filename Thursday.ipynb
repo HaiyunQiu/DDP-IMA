{
  "nbformat": 4,
  "nbformat_minor": 0,
  "metadata": {
    "colab": {
      "name": "Untitled0.ipynb",
      "provenance": [],
      "collapsed_sections": []
    },
    "kernelspec": {
      "name": "python3",
      "display_name": "Python 3"
    },
    "language_info": {
      "name": "python"
    }
  },
  "cells": [
    {
      "cell_type": "code",
      "execution_count": 11,
      "metadata": {
        "colab": {
          "base_uri": "https://localhost:8080/"
        },
        "id": "NIegG_KOh9Kz",
        "outputId": "f93a257a-e032-4507-b594-2edbd531b5f4"
      },
      "outputs": [
        {
          "output_type": "stream",
          "name": "stdout",
          "text": [
            "Requirement already satisfied: flask-ngrok in /usr/local/lib/python3.7/dist-packages (0.0.25)\n",
            "Requirement already satisfied: Flask>=0.8 in /usr/local/lib/python3.7/dist-packages (from flask-ngrok) (1.1.4)\n",
            "Requirement already satisfied: requests in /usr/local/lib/python3.7/dist-packages (from flask-ngrok) (2.23.0)\n",
            "Requirement already satisfied: Werkzeug<2.0,>=0.15 in /usr/local/lib/python3.7/dist-packages (from Flask>=0.8->flask-ngrok) (1.0.1)\n",
            "Requirement already satisfied: click<8.0,>=5.1 in /usr/local/lib/python3.7/dist-packages (from Flask>=0.8->flask-ngrok) (7.1.2)\n",
            "Requirement already satisfied: itsdangerous<2.0,>=0.24 in /usr/local/lib/python3.7/dist-packages (from Flask>=0.8->flask-ngrok) (1.1.0)\n",
            "Requirement already satisfied: Jinja2<3.0,>=2.10.1 in /usr/local/lib/python3.7/dist-packages (from Flask>=0.8->flask-ngrok) (2.11.3)\n",
            "Requirement already satisfied: MarkupSafe>=0.23 in /usr/local/lib/python3.7/dist-packages (from Jinja2<3.0,>=2.10.1->Flask>=0.8->flask-ngrok) (2.0.1)\n",
            "Requirement already satisfied: idna<3,>=2.5 in /usr/local/lib/python3.7/dist-packages (from requests->flask-ngrok) (2.10)\n",
            "Requirement already satisfied: certifi>=2017.4.17 in /usr/local/lib/python3.7/dist-packages (from requests->flask-ngrok) (2021.10.8)\n",
            "Requirement already satisfied: chardet<4,>=3.0.2 in /usr/local/lib/python3.7/dist-packages (from requests->flask-ngrok) (3.0.4)\n",
            "Requirement already satisfied: urllib3!=1.25.0,!=1.25.1,<1.26,>=1.21.1 in /usr/local/lib/python3.7/dist-packages (from requests->flask-ngrok) (1.24.3)\n",
            "Requirement already satisfied: pyngrok in /usr/local/lib/python3.7/dist-packages (5.1.0)\n",
            "Requirement already satisfied: PyYAML in /usr/local/lib/python3.7/dist-packages (from pyngrok) (3.13)\n",
            "Requirement already satisfied: flask-wtf in /usr/local/lib/python3.7/dist-packages (1.0.0)\n",
            "Requirement already satisfied: itsdangerous in /usr/local/lib/python3.7/dist-packages (from flask-wtf) (1.1.0)\n",
            "Requirement already satisfied: Flask in /usr/local/lib/python3.7/dist-packages (from flask-wtf) (1.1.4)\n",
            "Requirement already satisfied: WTForms in /usr/local/lib/python3.7/dist-packages (from flask-wtf) (3.0.1)\n",
            "Requirement already satisfied: Werkzeug<2.0,>=0.15 in /usr/local/lib/python3.7/dist-packages (from Flask->flask-wtf) (1.0.1)\n",
            "Requirement already satisfied: Jinja2<3.0,>=2.10.1 in /usr/local/lib/python3.7/dist-packages (from Flask->flask-wtf) (2.11.3)\n",
            "Requirement already satisfied: click<8.0,>=5.1 in /usr/local/lib/python3.7/dist-packages (from Flask->flask-wtf) (7.1.2)\n",
            "Requirement already satisfied: MarkupSafe>=0.23 in /usr/local/lib/python3.7/dist-packages (from Jinja2<3.0,>=2.10.1->Flask->flask-wtf) (2.0.1)\n",
            "Authtoken saved to configuration file: /root/.ngrok2/ngrok.yml\n"
          ]
        }
      ],
      "source": [
        "!pip install flask-ngrok\n",
        "!pip install pyngrok\n",
        "!pip install flask-wtf\n",
        "\n",
        "!ngrok authtoken \"26C2wYr9m4Hyqw8C1Rbm7gnERwc_5EDRVFiadiiNKQDZPRhf2\""
      ]
    },
    {
      "cell_type": "code",
      "source": [
        "!cd /content & rm -rf Tuesday-Thursday-"
      ],
      "metadata": {
        "id": "0CejECdvP3Pu"
      },
      "execution_count": 12,
      "outputs": []
    },
    {
      "cell_type": "code",
      "source": [
        "!git clone \"https://github.com/HaiyunQiu/Tuesday-Thursday-\""
      ],
      "metadata": {
        "colab": {
          "base_uri": "https://localhost:8080/"
        },
        "id": "RbxrKtDeiPwY",
        "outputId": "ddc36040-6bf8-4a68-c8ca-cd280bc91f7d"
      },
      "execution_count": 13,
      "outputs": [
        {
          "output_type": "stream",
          "name": "stdout",
          "text": [
            "Cloning into 'Tuesday-Thursday-'...\n",
            "remote: Enumerating objects: 53, done.\u001b[K\n",
            "remote: Counting objects: 100% (53/53), done.\u001b[K\n",
            "remote: Compressing objects: 100% (31/31), done.\u001b[K\n",
            "remote: Total 53 (delta 15), reused 50 (delta 12), pack-reused 0\u001b[K\n",
            "Unpacking objects: 100% (53/53), done.\n"
          ]
        }
      ]
    },
    {
      "cell_type": "code",
      "source": [
        "import os\n",
        "os.chdir(\"/content/Tuesday-Thursday-\")"
      ],
      "metadata": {
        "id": "v--xyF_7ikHA"
      },
      "execution_count": 14,
      "outputs": []
    },
    {
      "cell_type": "code",
      "source": [
        "from flask import *\n",
        "from flask_ngrok import run_with_ngrok\n",
        "import os\n",
        "app = Flask(__name__, static_folder='static')\n",
        "\n",
        "app_data = {\n",
        "    \"name\":         \"Peter's Starter Template for a Flask Web App\",\n",
        "    \"description\":  \"A basic Flask app using bootstrap for layout\",\n",
        "    \"author\":       \"Peter Simeth\",\n",
        "    \"html_title\":   \"Peter's Starter Template for a Flask Web App\",\n",
        "    \"project_name\": \"Starter Template\",\n",
        "    \"keywords\":     \"flask, webapp, template, basic\"\n",
        "}\n",
        "\n",
        "\n",
        "@app.route('/')\n",
        "def index():\n",
        "    return render_template('index.html', app_data=app_data)\n",
        "\n",
        "run_with_ngrok(app)\n",
        "app.run()"
      ],
      "metadata": {
        "colab": {
          "base_uri": "https://localhost:8080/"
        },
        "id": "N8vMB6DTivCT",
        "outputId": "1c0a2f93-7d53-453f-b62e-a2080eb8796d"
      },
      "execution_count": null,
      "outputs": [
        {
          "output_type": "stream",
          "name": "stdout",
          "text": [
            " * Serving Flask app \"__main__\" (lazy loading)\n",
            " * Environment: production\n",
            "\u001b[31m   WARNING: This is a development server. Do not use it in a production deployment.\u001b[0m\n",
            "\u001b[2m   Use a production WSGI server instead.\u001b[0m\n",
            " * Debug mode: off\n"
          ]
        },
        {
          "output_type": "stream",
          "name": "stderr",
          "text": [
            " * Running on http://127.0.0.1:5000/ (Press CTRL+C to quit)\n"
          ]
        },
        {
          "output_type": "stream",
          "name": "stdout",
          "text": [
            " * Running on http://21aa-35-194-231-190.ngrok.io\n",
            " * Traffic stats available on http://127.0.0.1:4040\n"
          ]
        },
        {
          "output_type": "stream",
          "name": "stderr",
          "text": [
            "127.0.0.1 - - [11/Mar/2022 10:44:37] \"\u001b[37mGET / HTTP/1.1\u001b[0m\" 200 -\n",
            "127.0.0.1 - - [11/Mar/2022 10:44:37] \"\u001b[37mGET /static/css/style.css HTTP/1.1\u001b[0m\" 200 -\n",
            "127.0.0.1 - - [11/Mar/2022 10:44:38] \"\u001b[37mGET /static/image/DSC00113.JPG HTTP/1.1\u001b[0m\" 200 -\n",
            "127.0.0.1 - - [11/Mar/2022 10:44:38] \"\u001b[37mGET /static/image/taking%20photo.jpg HTTP/1.1\u001b[0m\" 200 -\n",
            "127.0.0.1 - - [11/Mar/2022 10:44:38] \"\u001b[37mGET /static/image/DSC00092.JPG HTTP/1.1\u001b[0m\" 200 -\n",
            "127.0.0.1 - - [11/Mar/2022 10:44:38] \"\u001b[37mGET /static/image/DSC00104.JPG HTTP/1.1\u001b[0m\" 200 -\n",
            "127.0.0.1 - - [11/Mar/2022 10:44:42] \"\u001b[37mGET /static/image/camera.jpg HTTP/1.1\u001b[0m\" 200 -\n",
            "127.0.0.1 - - [11/Mar/2022 10:45:31] \"\u001b[37mGET / HTTP/1.1\u001b[0m\" 200 -\n",
            "127.0.0.1 - - [11/Mar/2022 10:47:04] \"\u001b[37mGET / HTTP/1.1\u001b[0m\" 200 -\n",
            "127.0.0.1 - - [11/Mar/2022 10:47:25] \"\u001b[37mGET / HTTP/1.1\u001b[0m\" 200 -\n"
          ]
        }
      ]
    }
  ]
}